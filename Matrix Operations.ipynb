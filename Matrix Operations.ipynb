{
 "cells": [
  {
   "cell_type": "code",
   "execution_count": 8,
   "id": "93f177e8",
   "metadata": {},
   "outputs": [],
   "source": [
    "import numpy as np"
   ]
  },
  {
   "cell_type": "code",
   "execution_count": 9,
   "id": "da1005cb",
   "metadata": {},
   "outputs": [],
   "source": [
    "# Calculate profit/loss from revenue and expenses\n",
    "revenue = np.array([[180,200,220],[24,36,40],[12,18,20]])\n",
    "expenses = np.array([[80,90,100],[10,16,20],[8,10,10]])"
   ]
  },
  {
   "cell_type": "code",
   "execution_count": 10,
   "id": "76c966d4",
   "metadata": {},
   "outputs": [
    {
     "data": {
      "text/plain": [
       "array([[100, 110, 120],\n",
       "       [ 14,  20,  20],\n",
       "       [  4,   8,  10]])"
      ]
     },
     "execution_count": 10,
     "metadata": {},
     "output_type": "execute_result"
    }
   ],
   "source": [
    "profit = revenue - expenses\n",
    "profit"
   ]
  },
  {
   "cell_type": "code",
   "execution_count": 11,
   "id": "9ac1402b",
   "metadata": {},
   "outputs": [],
   "source": [
    "# Calculate total sales from units and price per unit using matrix multiplication\n",
    "price_per_unit = np.array([1000,400,1200])\n",
    "units = np.array([[30,40,50],[5,10,15],[2,5,7]])"
   ]
  },
  {
   "cell_type": "code",
   "execution_count": 12,
   "id": "b7930a4d",
   "metadata": {},
   "outputs": [
    {
     "data": {
      "text/plain": [
       "array([[30000, 16000, 60000],\n",
       "       [ 5000,  4000, 18000],\n",
       "       [ 2000,  2000,  8400]])"
      ]
     },
     "execution_count": 12,
     "metadata": {},
     "output_type": "execute_result"
    }
   ],
   "source": [
    "price_per_unit*units"
   ]
  },
  {
   "cell_type": "raw",
   "id": "03a2318a",
   "metadata": {},
   "source": [
    "# In above case numpy is using broadcasting so it expands price_per_unit array from 1 row, 3 columns to 3 row and 3 columns. Correct way to do matrix multiplication is to use dot product as shown below"
   ]
  },
  {
   "cell_type": "code",
   "execution_count": 13,
   "id": "25f69f78",
   "metadata": {},
   "outputs": [
    {
     "data": {
      "text/plain": [
       "array([34400, 50000, 64400])"
      ]
     },
     "execution_count": 13,
     "metadata": {},
     "output_type": "execute_result"
    }
   ],
   "source": [
    "np.dot(price_per_unit,units)\n"
   ]
  },
  {
   "cell_type": "code",
   "execution_count": 14,
   "id": "66cef164",
   "metadata": {},
   "outputs": [],
   "source": [
    "# Below is some indian companies revenues in US dollars. Using numpy can you convert this into Indian rupees? \n",
    "# 1 USD = 75 INR"
   ]
  },
  {
   "cell_type": "code",
   "execution_count": 18,
   "id": "07018357",
   "metadata": {},
   "outputs": [
    {
     "data": {
      "text/plain": [
       "array([[13500, 15000, 16500],\n",
       "       [ 1800,  2700,  3000],\n",
       "       [  900,  1350,  1500]])"
      ]
     },
     "execution_count": 18,
     "metadata": {},
     "output_type": "execute_result"
    }
   ],
   "source": [
    "revenue_dollars = np.array([[180,200,220],[24,36,40],[12,18,20]])\n",
    "revenue_inr = np.dot(75 , revenue_dollars)\n",
    "revenue_inr"
   ]
  },
  {
   "cell_type": "code",
   "execution_count": 15,
   "id": "0c57b076",
   "metadata": {},
   "outputs": [],
   "source": [
    "# Divine flowers is a flower shop that sells different type of flowers. \n",
    "# Below is the table showing how many flowers of each type they sold in different months. \n",
    "# Also given are the prices of one flower each. Using this find out their total sales in every month.\n"
   ]
  },
  {
   "cell_type": "code",
   "execution_count": 28,
   "id": "6a586482",
   "metadata": {},
   "outputs": [
    {
     "data": {
      "text/plain": [
       "array([1900, 2640, 1430])"
      ]
     },
     "execution_count": 28,
     "metadata": {},
     "output_type": "execute_result"
    }
   ],
   "source": [
    "units_sold = np.array([[50,60,25],[10,13,5],[40,70,52]])\n",
    "price_per_unit = np.array([20,30,15])\n",
    "total_sales_amount = np.dot(price_per_unit,units_sold)\n",
    "total_sales_amount\n"
   ]
  }
 ],
 "metadata": {
  "kernelspec": {
   "display_name": "Python 3 (ipykernel)",
   "language": "python",
   "name": "python3"
  },
  "language_info": {
   "codemirror_mode": {
    "name": "ipython",
    "version": 3
   },
   "file_extension": ".py",
   "mimetype": "text/x-python",
   "name": "python",
   "nbconvert_exporter": "python",
   "pygments_lexer": "ipython3",
   "version": "3.11.5"
  }
 },
 "nbformat": 4,
 "nbformat_minor": 5
}

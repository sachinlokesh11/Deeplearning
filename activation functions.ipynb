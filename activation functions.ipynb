{
 "cells": [
  {
   "cell_type": "raw",
   "id": "db227498",
   "metadata": {},
   "source": [
    "Activation functions (step, sigmoid, tanh, relu, leaky relu ) are very important in building a non linear model for a given problem. activation functions that are used while building a neural network. \n",
    "1) Step\n",
    "2) Sigmoid\n",
    "3) tanh\n",
    "4) ReLU (rectified linear unit)\n",
    "5) Leaky ReLU "
   ]
  },
  {
   "cell_type": "code",
   "execution_count": 33,
   "id": "901822aa",
   "metadata": {},
   "outputs": [],
   "source": [
    "import tensorflow as tf\n",
    "import math"
   ]
  },
  {
   "cell_type": "code",
   "execution_count": 34,
   "id": "57e20d7c",
   "metadata": {},
   "outputs": [],
   "source": [
    "def sigmoid(x):\n",
    "    return 1/(1+math.exp(-x))"
   ]
  },
  {
   "cell_type": "code",
   "execution_count": 35,
   "id": "6c1309f5",
   "metadata": {},
   "outputs": [
    {
     "data": {
      "text/plain": [
       "0.7502601055951177"
      ]
     },
     "execution_count": 35,
     "metadata": {},
     "output_type": "execute_result"
    }
   ],
   "source": [
    "sigmoid(1.1)"
   ]
  },
  {
   "cell_type": "code",
   "execution_count": 36,
   "id": "a96db602",
   "metadata": {},
   "outputs": [
    {
     "data": {
      "text/plain": [
       "1.0"
      ]
     },
     "execution_count": 36,
     "metadata": {},
     "output_type": "execute_result"
    }
   ],
   "source": [
    "sigmoid(100)"
   ]
  },
  {
   "cell_type": "code",
   "execution_count": 37,
   "id": "9bd63c30",
   "metadata": {},
   "outputs": [
    {
     "data": {
      "text/plain": [
       "4.508027065606742e-157"
      ]
     },
     "execution_count": 37,
     "metadata": {},
     "output_type": "execute_result"
    }
   ],
   "source": [
    "sigmoid(-360)"
   ]
  },
  {
   "cell_type": "code",
   "execution_count": 38,
   "id": "62a99276",
   "metadata": {},
   "outputs": [
    {
     "data": {
      "text/plain": [
       "0.549833997312478"
      ]
     },
     "execution_count": 38,
     "metadata": {},
     "output_type": "execute_result"
    }
   ],
   "source": [
    "sigmoid(0.2)"
   ]
  },
  {
   "cell_type": "code",
   "execution_count": 39,
   "id": "6d0bae5c",
   "metadata": {},
   "outputs": [],
   "source": [
    "def tanh(x):\n",
    "    return (math.exp(x) - math.exp(-x)) / (math.exp(x) + math.exp(-x))"
   ]
  },
  {
   "cell_type": "code",
   "execution_count": 40,
   "id": "99aac024",
   "metadata": {},
   "outputs": [
    {
     "data": {
      "text/plain": [
       "1.0"
      ]
     },
     "execution_count": 40,
     "metadata": {},
     "output_type": "execute_result"
    }
   ],
   "source": [
    "tanh(100)"
   ]
  },
  {
   "cell_type": "code",
   "execution_count": 41,
   "id": "ce634c45",
   "metadata": {},
   "outputs": [
    {
     "data": {
      "text/plain": [
       "0.3185207769027708"
      ]
     },
     "execution_count": 41,
     "metadata": {},
     "output_type": "execute_result"
    }
   ],
   "source": [
    "tanh(0.33)"
   ]
  },
  {
   "cell_type": "code",
   "execution_count": 42,
   "id": "dc515df1",
   "metadata": {},
   "outputs": [
    {
     "data": {
      "text/plain": [
       "0.7615941559557649"
      ]
     },
     "execution_count": 42,
     "metadata": {},
     "output_type": "execute_result"
    }
   ],
   "source": [
    "tanh(1)"
   ]
  },
  {
   "cell_type": "code",
   "execution_count": 43,
   "id": "7785f504",
   "metadata": {},
   "outputs": [],
   "source": [
    "def relu(x):\n",
    "    return max(0, x)"
   ]
  },
  {
   "cell_type": "code",
   "execution_count": 44,
   "id": "8e9de974",
   "metadata": {},
   "outputs": [
    {
     "data": {
      "text/plain": [
       "0"
      ]
     },
     "execution_count": 44,
     "metadata": {},
     "output_type": "execute_result"
    }
   ],
   "source": [
    "relu(-1)"
   ]
  },
  {
   "cell_type": "code",
   "execution_count": 45,
   "id": "2a2a0962",
   "metadata": {},
   "outputs": [
    {
     "data": {
      "text/plain": [
       "100"
      ]
     },
     "execution_count": 45,
     "metadata": {},
     "output_type": "execute_result"
    }
   ],
   "source": [
    "relu(100)"
   ]
  },
  {
   "cell_type": "code",
   "execution_count": 46,
   "id": "4e918caf",
   "metadata": {},
   "outputs": [
    {
     "data": {
      "text/plain": [
       "0"
      ]
     },
     "execution_count": 46,
     "metadata": {},
     "output_type": "execute_result"
    }
   ],
   "source": [
    "relu(-1.2)"
   ]
  },
  {
   "cell_type": "code",
   "execution_count": 47,
   "id": "3f326124",
   "metadata": {},
   "outputs": [
    {
     "data": {
      "text/plain": [
       "0.56"
      ]
     },
     "execution_count": 47,
     "metadata": {},
     "output_type": "execute_result"
    }
   ],
   "source": [
    "relu(0.56)"
   ]
  },
  {
   "cell_type": "code",
   "execution_count": 48,
   "id": "a3a97dd4",
   "metadata": {},
   "outputs": [],
   "source": [
    "def leaky_relu(x):\n",
    "    return max(0.1*x , x)"
   ]
  },
  {
   "cell_type": "code",
   "execution_count": 49,
   "id": "ed39c269",
   "metadata": {},
   "outputs": [
    {
     "data": {
      "text/plain": [
       "-0.1"
      ]
     },
     "execution_count": 49,
     "metadata": {},
     "output_type": "execute_result"
    }
   ],
   "source": [
    "leaky_relu(-1)"
   ]
  },
  {
   "cell_type": "code",
   "execution_count": 50,
   "id": "081ead45",
   "metadata": {},
   "outputs": [
    {
     "data": {
      "text/plain": [
       "-10.0"
      ]
     },
     "execution_count": 50,
     "metadata": {},
     "output_type": "execute_result"
    }
   ],
   "source": [
    "leaky_relu(-100)"
   ]
  },
  {
   "cell_type": "code",
   "execution_count": 51,
   "id": "e4e2bd20",
   "metadata": {},
   "outputs": [
    {
     "data": {
      "text/plain": [
       "0.33"
      ]
     },
     "execution_count": 51,
     "metadata": {},
     "output_type": "execute_result"
    }
   ],
   "source": [
    "leaky_relu(0.33)"
   ]
  },
  {
   "cell_type": "code",
   "execution_count": 52,
   "id": "dd2f99fa",
   "metadata": {},
   "outputs": [
    {
     "data": {
      "text/plain": [
       "-0.033"
      ]
     },
     "execution_count": 52,
     "metadata": {},
     "output_type": "execute_result"
    }
   ],
   "source": [
    "leaky_relu(-0.33)"
   ]
  }
 ],
 "metadata": {
  "kernelspec": {
   "display_name": "Python 3 (ipykernel)",
   "language": "python",
   "name": "python3"
  },
  "language_info": {
   "codemirror_mode": {
    "name": "ipython",
    "version": 3
   },
   "file_extension": ".py",
   "mimetype": "text/x-python",
   "name": "python",
   "nbconvert_exporter": "python",
   "pygments_lexer": "ipython3",
   "version": "3.11.5"
  }
 },
 "nbformat": 4,
 "nbformat_minor": 5
}

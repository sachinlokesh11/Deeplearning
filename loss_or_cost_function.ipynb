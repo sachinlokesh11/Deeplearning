{
 "cells": [
  {
   "cell_type": "code",
   "execution_count": 27,
   "id": "ae1d025c",
   "metadata": {},
   "outputs": [],
   "source": [
    "import numpy as np"
   ]
  },
  {
   "cell_type": "code",
   "execution_count": 28,
   "id": "43f93059",
   "metadata": {},
   "outputs": [],
   "source": [
    "y_predicted = np.array([1,1,0,0,1])\n",
    "y_true = np.array([0.30,0.7,1,0,0.5])"
   ]
  },
  {
   "cell_type": "code",
   "execution_count": 29,
   "id": "488b02e7",
   "metadata": {},
   "outputs": [],
   "source": [
    "# Implement Mean Absolute Error\n",
    "\n",
    "def mae(y_true, y_predicted):\n",
    "    error_sum = 0\n",
    "    for y_t, y_p in zip(y_true, y_predicted):\n",
    "        error_sum += abs(y_t - y_p)\n",
    "    \n",
    "    mae = error_sum/len(y_predicted)\n",
    "    \n",
    "    print(\"MAE: \", mae)"
   ]
  },
  {
   "cell_type": "code",
   "execution_count": 30,
   "id": "661bb42d",
   "metadata": {},
   "outputs": [
    {
     "name": "stdout",
     "output_type": "stream",
     "text": [
      "MAE:  0.5\n"
     ]
    }
   ],
   "source": [
    "mae(y_true, y_predicted)"
   ]
  },
  {
   "cell_type": "code",
   "execution_count": 31,
   "id": "a8b3fea5",
   "metadata": {},
   "outputs": [],
   "source": [
    "# Implement same thing using numpy in much easier way"
   ]
  },
  {
   "cell_type": "code",
   "execution_count": 32,
   "id": "01449ff5",
   "metadata": {},
   "outputs": [
    {
     "data": {
      "text/plain": [
       "('MAE', 0.5)"
      ]
     },
     "execution_count": 32,
     "metadata": {},
     "output_type": "execute_result"
    }
   ],
   "source": [
    "\"MAE\", np.mean(np.abs(y_true - y_predicted))"
   ]
  },
  {
   "cell_type": "code",
   "execution_count": 33,
   "id": "320f1b2a",
   "metadata": {},
   "outputs": [],
   "source": [
    "# Implement Mean Squared Error\n",
    "\n",
    "def mse(y_true, y_predicted):\n",
    "    error_sum = 0\n",
    "    for y_t, y_p in zip(y_true, y_predicted):\n",
    "        error_sum += (y_t - y_p)**2\n",
    "    \n",
    "    mse = error_sum/len(y_predicted)\n",
    "    \n",
    "    print(\"MSE: \", mse)"
   ]
  },
  {
   "cell_type": "code",
   "execution_count": 34,
   "id": "fc99bd4c",
   "metadata": {},
   "outputs": [
    {
     "name": "stdout",
     "output_type": "stream",
     "text": [
      "MSE:  0.366\n"
     ]
    }
   ],
   "source": [
    "mse(y_true, y_predicted)"
   ]
  },
  {
   "cell_type": "code",
   "execution_count": 35,
   "id": "b049b8d7",
   "metadata": {},
   "outputs": [
    {
     "data": {
      "text/plain": [
       "('MSE: ', 0.366)"
      ]
     },
     "execution_count": 35,
     "metadata": {},
     "output_type": "execute_result"
    }
   ],
   "source": [
    "# Implement same thing using numpy in much easier way\n",
    "\"MSE: \", np.mean(np.square(y_true-y_predicted))"
   ]
  },
  {
   "cell_type": "code",
   "execution_count": 36,
   "id": "11105d7f",
   "metadata": {},
   "outputs": [],
   "source": [
    "# Implement Log Loss or Binary Cross Entropy\n",
    "\n",
    "def log_loss(y_true, y_predicted):\n",
    "    epsilon = 1e-15\n",
    "    y_predicted_new = [max(i, epsilon) for i in y_predicted]\n",
    "    y_predicted_new = [min(i, 1-epsilon) for i in y_predicted_new]\n",
    "    y_predicted_new = np.array(y_predicted_new)\n",
    "    return -np.mean(y_true * np.log(y_predicted_new) + (1-y_true) * np.log(1-y_predicted_new))"
   ]
  },
  {
   "cell_type": "code",
   "execution_count": 37,
   "id": "ffbe3d47",
   "metadata": {},
   "outputs": [
    {
     "data": {
      "text/plain": [
       "17.2696280766844"
      ]
     },
     "execution_count": 37,
     "metadata": {},
     "output_type": "execute_result"
    }
   ],
   "source": [
    "log_loss(y_true, y_predicted)"
   ]
  }
 ],
 "metadata": {
  "kernelspec": {
   "display_name": "Python 3 (ipykernel)",
   "language": "python",
   "name": "python3"
  },
  "language_info": {
   "codemirror_mode": {
    "name": "ipython",
    "version": 3
   },
   "file_extension": ".py",
   "mimetype": "text/x-python",
   "name": "python",
   "nbconvert_exporter": "python",
   "pygments_lexer": "ipython3",
   "version": "3.11.5"
  }
 },
 "nbformat": 4,
 "nbformat_minor": 5
}
